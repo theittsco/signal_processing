{
 "cells": [
  {
   "cell_type": "code",
   "execution_count": null,
   "id": "4345b28d",
   "metadata": {},
   "outputs": [],
   "source": [
    "import numpy as np\n",
    "import matplotlib.pyplot as plt\n",
    "from scipy import signal\n",
    "import math, random"
   ]
  },
  {
   "cell_type": "markdown",
   "id": "4cb55b2b",
   "metadata": {},
   "source": [
    "# Probability and Random Signals\n",
    "\n",
    "1. Random Processes\n",
    "2. Autocorrelation & Cross-Correlation\n",
    "3. Power Spectral Density (PSD)\n",
    "4. Gaussian & Non-Gaussian Signals\n",
    "\n",
    "### Tasks:\n",
    "- Generate whitenoise and analyze its power spectrum\n",
    "- Implement an autocorrelation function and compare it with FFT-based methods"
   ]
  },
  {
   "cell_type": "markdown",
   "id": "84b2678f",
   "metadata": {},
   "source": [
    "## Random Processes - Gubner 10.2"
   ]
  },
  {
   "cell_type": "markdown",
   "id": "d15a34cd",
   "metadata": {},
   "source": [
    "## Autocorrelation & Cross Correlation"
   ]
  },
  {
   "cell_type": "markdown",
   "id": "adcf14e4",
   "metadata": {},
   "source": [
    "## Power Spectral Density\n",
    "\n"
   ]
  },
  {
   "cell_type": "markdown",
   "id": "191440b5",
   "metadata": {},
   "source": [
    "## Gaussian and Non-Gaussian Signals\n",
    "\n"
   ]
  },
  {
   "cell_type": "code",
   "execution_count": null,
   "id": "e33bd951",
   "metadata": {},
   "outputs": [],
   "source": [
    "'''\n",
    "Practice\n",
    "\n",
    "1. Generate white noise and analyze its power spectrum\n",
    "\n",
    "Borrow power spectrum plot from previous week's notebook\n",
    "'''\n",
    "whitenoise = []\n",
    "fs = # choose sampling frequency for whitenoise\n",
    "d = 1/fs\n",
    "X_whitenoise = np.fft.fft(whitenoise)\n",
    "freqs_whitenoise = np.fft.fftfreq(len(whitenoise),d)\n",
    "\n",
    "# Power spectrum\n",
    "X_mag = np.abs(X_whitenoise)  # Magnitude of FFT\n",
    "\n",
    "# Normalize and convert to dB\n",
    "X_dB_whitenoise = 20 * np.log10(X_mag / np.max(X_mag))\n",
    "\n",
    "# Common practice to clip to -80 decibels, anything below -100 decibels is machine precision error\n",
    "X_dB_whitenoise = np.clip(X_dB_whitenoise, -87, 0)\n",
    "\n",
    "plt.plot(freqs_whitenoise[:N//2],X_dB_whitenoise_clipped[:N//2])\n",
    "plt.xlabel('Frequency [Hz]')\n",
    "plt.ylabel('Power [dB]')"
   ]
  },
  {
   "cell_type": "code",
   "execution_count": null,
   "id": "b7b5342e",
   "metadata": {},
   "outputs": [],
   "source": [
    "'''\n",
    "2. Implement an autocorrelation function and compare with FFT-methods\n",
    "'''"
   ]
  }
 ],
 "metadata": {
  "kernelspec": {
   "display_name": "Python 3 (ipykernel)",
   "language": "python",
   "name": "python3"
  },
  "language_info": {
   "codemirror_mode": {
    "name": "ipython",
    "version": 3
   },
   "file_extension": ".py",
   "mimetype": "text/x-python",
   "name": "python",
   "nbconvert_exporter": "python",
   "pygments_lexer": "ipython3",
   "version": "3.9.23"
  }
 },
 "nbformat": 4,
 "nbformat_minor": 5
}
