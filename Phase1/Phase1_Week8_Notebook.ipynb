{
 "cells": [
  {
   "cell_type": "code",
   "execution_count": null,
   "id": "9670b2a8",
   "metadata": {},
   "outputs": [],
   "source": [
    "import numpy as np\n",
    "import matplotlib.pyplot as plt\n",
    "from scipy import signal\n",
    "import math, random"
   ]
  },
  {
   "cell_type": "markdown",
   "id": "98b1c608",
   "metadata": {},
   "source": [
    "# Practical Applications and Review\n",
    "\n",
    "1. Applications of DSP in Audio & Speech Processing\n",
    "2. DSP in Image Processing & Communications\n",
    "3. Overview of DSP in Embedded Systems (FPGAs, ARM)\n",
    "\n",
    "## Tasks:\n",
    "\n",
    "1. Implement a simple noise removal filter for audio signals\n",
    "2. Review and consolidate all previous concepts"
   ]
  }
 ],
 "metadata": {
  "kernelspec": {
   "display_name": "Python 3 (ipykernel)",
   "language": "python",
   "name": "python3"
  },
  "language_info": {
   "codemirror_mode": {
    "name": "ipython",
    "version": 3
   },
   "file_extension": ".py",
   "mimetype": "text/x-python",
   "name": "python",
   "nbconvert_exporter": "python",
   "pygments_lexer": "ipython3",
   "version": "3.9.23"
  }
 },
 "nbformat": 4,
 "nbformat_minor": 5
}
